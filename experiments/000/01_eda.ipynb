{
 "cells": [
  {
   "cell_type": "code",
   "execution_count": 2,
   "metadata": {},
   "outputs": [],
   "source": [
    "import gc\n",
    "import itertools\n",
    "import os\n",
    "import pickle\n",
    "import random\n",
    "import sys\n",
    "import warnings\n",
    "from glob import glob\n",
    "from pathlib import Path\n",
    "\n",
    "import config\n",
    "import japanize_matplotlib\n",
    "import joblib\n",
    "import lightgbm as lgb\n",
    "import matplotlib.pyplot as plt\n",
    "import numpy as np\n",
    "import pandas as pd\n",
    "import polars as pl\n",
    "import scipy as sp\n",
    "import torch\n",
    "import xgboost as xgb\n",
    "from catboost import CatBoostClassifier, CatBoostRegressor, Pool\n",
    "from lightgbm import LGBMClassifier, LGBMRegressor\n",
    "from matplotlib_venn import venn2\n",
    "from metric import macro_auc_score, score\n",
    "from scipy.optimize import minimize\n",
    "from seed import seed_everything\n",
    "from sklearn.metrics import mean_squared_error\n",
    "from sklearn.model_selection import GroupKFold, KFold, StratifiedKFold, train_test_split\n",
    "from sklearn.preprocessing import LabelEncoder\n",
    "from tqdm.notebook import tqdm\n",
    "from xgboost import XGBClassifier, XGBRegressor\n",
    "\n",
    "warnings.filterwarnings(\"ignore\")\n"
   ]
  },
  {
   "cell_type": "code",
   "execution_count": 3,
   "metadata": {},
   "outputs": [],
   "source": [
    "# ====================================================\n",
    "# Configurations\n",
    "# ====================================================\n",
    "class CFG:\n",
    "    DRY_RUN = True\n",
    "    EXP_NAME = config.EXP_NAME\n",
    "    AUTHOR = \"marumarukun\"\n",
    "    COMPETITION = config.KAGGLE_COMPETITION_NAME\n",
    "    DATA_PATH = config.COMP_DATASET_DIR\n",
    "    OUTPUT_DIR = config.OUTPUT_DIR\n",
    "    MODEL_PATH = config.OUTPUT_DIR / \"models\"  # モデル作成・実験時はこちらを使用(Notebookではこちらを使用)\n",
    "    # MODEL_PATH = config.ARTIFACT_EXP_DIR(config.EXP_NAME) / \"models\"  # 提出時はこちらを使用(pyではこちらを使用)\n",
    "    METHOD_LIST = [\"lightgbm\", \"xgboost\", \"catboost\"]\n",
    "    METHOD_WEIGHT_DICT = {\"lightgbm\": 0.7, \"xgboost\": 0.2, \"catboost\": 0.1}\n",
    "    SEED = 319\n",
    "    n_folds = 2 if DRY_RUN else 5\n",
    "    target_col_list = [\"target\"]\n",
    "    # group_col = \"category1\"  # Required for GroupKFold (edit as needed)\n",
    "    stratified_col = \"target\"  # Required for StratifiedKFold (edit as needed)\n",
    "    num_boost_round = 100 if DRY_RUN else 1000000\n",
    "    early_stopping_round = 10 if DRY_RUN else 100  # 10÷lrで設定\n",
    "    verbose = 500\n",
    "\n",
    "    # https://lightgbm.readthedocs.io/en/latest/Parameters.html\n",
    "    # https://lightgbm.readthedocs.io/en/latest/pythonapi/lightgbm.LGBMRegressor.html\n",
    "    # https://lightgbm.readthedocs.io/en/latest/pythonapi/lightgbm.LGBMClassifier.html\n",
    "    regression_lgb_params = {\n",
    "        \"objective\": \"regression\",\n",
    "        # \"metric\": \"mae\",\n",
    "        \"learning_rate\": 0.1,\n",
    "        \"max_depth\": 5,\n",
    "        \"min_child_weight\": 1,\n",
    "        \"colsample_bytree\": 0.8,\n",
    "        \"subsample\": 0.8,\n",
    "        \"subsample_freq\": 1,\n",
    "        \"seed\": SEED,\n",
    "        \"device\": \"cpu\",  # cpu/gpu/cuda\n",
    "    }\n",
    "    # https://xgboost.readthedocs.io/en/stable/parameter.html\n",
    "    # https://xgboost.readthedocs.io/en/latest/python/python_api.html#xgboost.XGBRegressor\n",
    "    # https://xgboost.readthedocs.io/en/latest/python/python_api.html#xgboost.XGBClassifier\n",
    "    regression_xgb_params = {\n",
    "        \"objective\": \"reg:squarederror\",\n",
    "        # \"eval_metric\": \"mae\",\n",
    "        \"learning_rate\": 0.1,\n",
    "        \"max_depth\": 5,\n",
    "        \"colsample_bytree\": 0.8,\n",
    "        \"subsample\": 0.8,\n",
    "        \"min_child_weight\": 1,\n",
    "        \"enable_categorical\": True,\n",
    "        \"random_state\": SEED,\n",
    "        \"device\": \"cpu\",  # cpu/gpu/cuda\n",
    "    }\n",
    "    # https://catboost.ai/docs/en/references/training-parameters/\n",
    "    # https://catboost.ai/docs/en/concepts/python-reference_catboostregressor\n",
    "    # https://catboost.ai/docs/en/concepts/python-reference_catboostclassifier\n",
    "    regression_cat_params = {\n",
    "        \"loss_function\": \"RMSE\",\n",
    "        \"learning_rate\": 0.1,\n",
    "        \"iterations\": num_boost_round,\n",
    "        # \"depth\": 5,\n",
    "        \"grow_policy\": \"Lossguide\",\n",
    "        \"random_seed\": SEED,\n",
    "        \"task_type\": \"CPU\",  # CPU/GPU\n",
    "    }\n"
   ]
  },
  {
   "cell_type": "code",
   "execution_count": 4,
   "metadata": {},
   "outputs": [],
   "source": [
    "# ====================================================\n",
    "# Seed everything\n",
    "# ====================================================\n",
    "seed_everything(CFG.SEED)\n"
   ]
  },
  {
   "cell_type": "code",
   "execution_count": 5,
   "metadata": {},
   "outputs": [],
   "source": [
    "# ====================================================\n",
    "# Read data\n",
    "# ====================================================\n",
    "train_ss = pl.read_csv(CFG.DATA_PATH / \"train_session.csv\", try_parse_dates=True)\n",
    "train_target = pl.read_csv(CFG.DATA_PATH / \"train_target.csv\", try_parse_dates=True)\n",
    "test_ss = pl.read_csv(CFG.DATA_PATH / \"test_session.csv\", try_parse_dates=True)\n",
    "train_log = pl.read_csv(CFG.DATA_PATH / \"train_log.csv\", try_parse_dates=True)\n",
    "ec_log = pl.read_csv(CFG.DATA_PATH / \"ec_log.csv\", try_parse_dates=True, schema_overrides={\"JAN\": pl.String})\n",
    "jan = pl.read_csv(CFG.DATA_PATH / \"jan.csv\", try_parse_dates=True)\n",
    "\n",
    "train_test_ss = pl.concat([train_ss, test_ss])\n",
    "\n",
    "# make index column\n",
    "# train = train.with_row_index()\n",
    "# test = test.with_row_index()\n"
   ]
  },
  {
   "cell_type": "code",
   "execution_count": 6,
   "metadata": {},
   "outputs": [
    {
     "data": {
      "text/html": [
       "<div><style>\n",
       ".dataframe > thead > tr,\n",
       ".dataframe > tbody > tr {\n",
       "  text-align: right;\n",
       "  white-space: pre-wrap;\n",
       "}\n",
       "</style>\n",
       "<small>shape: (2_120_551, 7)</small><table border=\"1\" class=\"dataframe\"><thead><tr><th>session_id</th><th>売上日</th><th>時刻</th><th>店舗名</th><th>年代</th><th>性別</th><th>顧客CD</th></tr><tr><td>str</td><td>date</td><td>i64</td><td>str</td><td>str</td><td>str</td><td>str</td></tr></thead><tbody><tr><td>&quot;3VrcoHzNbhVjwWry8bprTk&quot;</td><td>2024-07-01</td><td>0</td><td>&quot;つくば&quot;</td><td>&quot;20代&quot;</td><td>&quot;不明&quot;</td><td>&quot;9545f047bcc38513f1bf9d420b615b…</td></tr><tr><td>&quot;2BQUMmbDbCffCzmyCmJWXM&quot;</td><td>2024-07-01</td><td>0</td><td>&quot;つくば&quot;</td><td>&quot;20代&quot;</td><td>&quot;不明&quot;</td><td>&quot;a8caaca05647788262c55ae79b3c6c…</td></tr><tr><td>&quot;Bbi8hQdtC3CCJxULJYCE9F&quot;</td><td>2024-07-01</td><td>0</td><td>&quot;つくば&quot;</td><td>&quot;20代&quot;</td><td>&quot;女性&quot;</td><td>&quot;33c89af908f24a3189312289978d1c…</td></tr><tr><td>&quot;7zecHQC6svwsdprayEJCfR&quot;</td><td>2024-07-01</td><td>0</td><td>&quot;つくば&quot;</td><td>&quot;20代&quot;</td><td>&quot;女性&quot;</td><td>&quot;395e3a5c2d0c006e619e8196e310e7…</td></tr><tr><td>&quot;Dr2ky5Hdr8odb2uJQth8Hc&quot;</td><td>2024-07-01</td><td>0</td><td>&quot;つくば&quot;</td><td>&quot;20代&quot;</td><td>&quot;女性&quot;</td><td>&quot;ed59f7160f6b18c34a510d2ea179e3…</td></tr><tr><td>&hellip;</td><td>&hellip;</td><td>&hellip;</td><td>&hellip;</td><td>&hellip;</td><td>&hellip;</td><td>&hellip;</td></tr><tr><td>&quot;3z9pZTJPwY3b29rJV8Jqfc&quot;</td><td>2024-10-31</td><td>23</td><td>&quot;門司店&quot;</td><td>&quot;60代&quot;</td><td>&quot;男性&quot;</td><td>&quot;34357aecb2373462e0a53d6ac425da…</td></tr><tr><td>&quot;8sPiNmDQMay7K8bDpZNGvR&quot;</td><td>2024-10-31</td><td>23</td><td>&quot;門司店&quot;</td><td>&quot;60代&quot;</td><td>&quot;男性&quot;</td><td>&quot;5cc57726b7fe4f0bff6e37a58267d2…</td></tr><tr><td>&quot;TEo9tKEMw5kLHCf55sRzvC&quot;</td><td>2024-10-31</td><td>23</td><td>&quot;門司店&quot;</td><td>&quot;60代&quot;</td><td>&quot;男性&quot;</td><td>&quot;c2820a47c280430c2a98507a1622ac…</td></tr><tr><td>&quot;MnBpN8RcoQMWZB3g24Ew3w&quot;</td><td>2024-10-31</td><td>23</td><td>&quot;門司店&quot;</td><td>&quot;60代&quot;</td><td>&quot;男性&quot;</td><td>&quot;cd0db4dc4170784d964e636b04cf4c…</td></tr><tr><td>&quot;5HERaELSaHymuDXNKg5xu9&quot;</td><td>2024-10-31</td><td>23</td><td>&quot;門司店&quot;</td><td>&quot;不明&quot;</td><td>&quot;不明&quot;</td><td>&quot;6fadda69152c4b16ad31674c4d4e56…</td></tr></tbody></table></div>"
      ],
      "text/plain": [
       "shape: (2_120_551, 7)\n",
       "┌────────────────────────┬────────────┬──────┬────────┬──────┬──────┬──────────────────────────────┐\n",
       "│ session_id             ┆ 売上日     ┆ 時刻 ┆ 店舗名 ┆ 年代 ┆ 性別 ┆ 顧客CD                       │\n",
       "│ ---                    ┆ ---        ┆ ---  ┆ ---    ┆ ---  ┆ ---  ┆ ---                          │\n",
       "│ str                    ┆ date       ┆ i64  ┆ str    ┆ str  ┆ str  ┆ str                          │\n",
       "╞════════════════════════╪════════════╪══════╪════════╪══════╪══════╪══════════════════════════════╡\n",
       "│ 3VrcoHzNbhVjwWry8bprTk ┆ 2024-07-01 ┆ 0    ┆ つくば ┆ 20代 ┆ 不明 ┆ 9545f047bcc38513f1bf9d420b61 │\n",
       "│                        ┆            ┆      ┆        ┆      ┆      ┆ 5b…                          │\n",
       "│ 2BQUMmbDbCffCzmyCmJWXM ┆ 2024-07-01 ┆ 0    ┆ つくば ┆ 20代 ┆ 不明 ┆ a8caaca05647788262c55ae79b3c │\n",
       "│                        ┆            ┆      ┆        ┆      ┆      ┆ 6c…                          │\n",
       "│ Bbi8hQdtC3CCJxULJYCE9F ┆ 2024-07-01 ┆ 0    ┆ つくば ┆ 20代 ┆ 女性 ┆ 33c89af908f24a3189312289978d │\n",
       "│                        ┆            ┆      ┆        ┆      ┆      ┆ 1c…                          │\n",
       "│ 7zecHQC6svwsdprayEJCfR ┆ 2024-07-01 ┆ 0    ┆ つくば ┆ 20代 ┆ 女性 ┆ 395e3a5c2d0c006e619e8196e310 │\n",
       "│                        ┆            ┆      ┆        ┆      ┆      ┆ e7…                          │\n",
       "│ Dr2ky5Hdr8odb2uJQth8Hc ┆ 2024-07-01 ┆ 0    ┆ つくば ┆ 20代 ┆ 女性 ┆ ed59f7160f6b18c34a510d2ea179 │\n",
       "│                        ┆            ┆      ┆        ┆      ┆      ┆ e3…                          │\n",
       "│ …                      ┆ …          ┆ …    ┆ …      ┆ …    ┆ …    ┆ …                            │\n",
       "│ 3z9pZTJPwY3b29rJV8Jqfc ┆ 2024-10-31 ┆ 23   ┆ 門司店 ┆ 60代 ┆ 男性 ┆ 34357aecb2373462e0a53d6ac425 │\n",
       "│                        ┆            ┆      ┆        ┆      ┆      ┆ da…                          │\n",
       "│ 8sPiNmDQMay7K8bDpZNGvR ┆ 2024-10-31 ┆ 23   ┆ 門司店 ┆ 60代 ┆ 男性 ┆ 5cc57726b7fe4f0bff6e37a58267 │\n",
       "│                        ┆            ┆      ┆        ┆      ┆      ┆ d2…                          │\n",
       "│ TEo9tKEMw5kLHCf55sRzvC ┆ 2024-10-31 ┆ 23   ┆ 門司店 ┆ 60代 ┆ 男性 ┆ c2820a47c280430c2a98507a1622 │\n",
       "│                        ┆            ┆      ┆        ┆      ┆      ┆ ac…                          │\n",
       "│ MnBpN8RcoQMWZB3g24Ew3w ┆ 2024-10-31 ┆ 23   ┆ 門司店 ┆ 60代 ┆ 男性 ┆ cd0db4dc4170784d964e636b04cf │\n",
       "│                        ┆            ┆      ┆        ┆      ┆      ┆ 4c…                          │\n",
       "│ 5HERaELSaHymuDXNKg5xu9 ┆ 2024-10-31 ┆ 23   ┆ 門司店 ┆ 不明 ┆ 不明 ┆ 6fadda69152c4b16ad31674c4d4e │\n",
       "│                        ┆            ┆      ┆        ┆      ┆      ┆ 56…                          │\n",
       "└────────────────────────┴────────────┴──────┴────────┴──────┴──────┴──────────────────────────────┘"
      ]
     },
     "execution_count": 6,
     "metadata": {},
     "output_type": "execute_result"
    }
   ],
   "source": [
    "train_ss\n"
   ]
  },
  {
   "cell_type": "code",
   "execution_count": 7,
   "metadata": {},
   "outputs": [
    {
     "data": {
      "text/html": [
       "<div><style>\n",
       ".dataframe > thead > tr,\n",
       ".dataframe > tbody > tr {\n",
       "  text-align: right;\n",
       "  white-space: pre-wrap;\n",
       "}\n",
       "</style>\n",
       "<small>shape: (2_120_551, 4)</small><table border=\"1\" class=\"dataframe\"><thead><tr><th>チョコレート</th><th>ビール</th><th>ヘアケア</th><th>米（5㎏以下）</th></tr><tr><td>i64</td><td>i64</td><td>i64</td><td>i64</td></tr></thead><tbody><tr><td>0</td><td>0</td><td>0</td><td>0</td></tr><tr><td>0</td><td>0</td><td>0</td><td>0</td></tr><tr><td>0</td><td>0</td><td>0</td><td>0</td></tr><tr><td>0</td><td>0</td><td>0</td><td>0</td></tr><tr><td>0</td><td>0</td><td>0</td><td>0</td></tr><tr><td>&hellip;</td><td>&hellip;</td><td>&hellip;</td><td>&hellip;</td></tr><tr><td>0</td><td>0</td><td>0</td><td>0</td></tr><tr><td>0</td><td>0</td><td>0</td><td>0</td></tr><tr><td>0</td><td>0</td><td>0</td><td>0</td></tr><tr><td>0</td><td>0</td><td>0</td><td>0</td></tr><tr><td>0</td><td>0</td><td>0</td><td>0</td></tr></tbody></table></div>"
      ],
      "text/plain": [
       "shape: (2_120_551, 4)\n",
       "┌──────────────┬────────┬──────────┬───────────────┐\n",
       "│ チョコレート ┆ ビール ┆ ヘアケア ┆ 米（5㎏以下） │\n",
       "│ ---          ┆ ---    ┆ ---      ┆ ---           │\n",
       "│ i64          ┆ i64    ┆ i64      ┆ i64           │\n",
       "╞══════════════╪════════╪══════════╪═══════════════╡\n",
       "│ 0            ┆ 0      ┆ 0        ┆ 0             │\n",
       "│ 0            ┆ 0      ┆ 0        ┆ 0             │\n",
       "│ 0            ┆ 0      ┆ 0        ┆ 0             │\n",
       "│ 0            ┆ 0      ┆ 0        ┆ 0             │\n",
       "│ 0            ┆ 0      ┆ 0        ┆ 0             │\n",
       "│ …            ┆ …      ┆ …        ┆ …             │\n",
       "│ 0            ┆ 0      ┆ 0        ┆ 0             │\n",
       "│ 0            ┆ 0      ┆ 0        ┆ 0             │\n",
       "│ 0            ┆ 0      ┆ 0        ┆ 0             │\n",
       "│ 0            ┆ 0      ┆ 0        ┆ 0             │\n",
       "│ 0            ┆ 0      ┆ 0        ┆ 0             │\n",
       "└──────────────┴────────┴──────────┴───────────────┘"
      ]
     },
     "execution_count": 7,
     "metadata": {},
     "output_type": "execute_result"
    }
   ],
   "source": [
    "train_target\n"
   ]
  },
  {
   "cell_type": "code",
   "execution_count": 8,
   "metadata": {},
   "outputs": [
    {
     "data": {
      "text/html": [
       "<div><style>\n",
       ".dataframe > thead > tr,\n",
       ".dataframe > tbody > tr {\n",
       "  text-align: right;\n",
       "  white-space: pre-wrap;\n",
       "}\n",
       "</style>\n",
       "<small>shape: (121_415, 7)</small><table border=\"1\" class=\"dataframe\"><thead><tr><th>session_id</th><th>売上日</th><th>時刻</th><th>店舗名</th><th>年代</th><th>性別</th><th>顧客CD</th></tr><tr><td>str</td><td>date</td><td>i64</td><td>str</td><td>str</td><td>str</td><td>str</td></tr></thead><tbody><tr><td>&quot;222qahkdkra4b7isEosZ5z&quot;</td><td>2024-11-03</td><td>17</td><td>&quot;新宮店&quot;</td><td>&quot;40代&quot;</td><td>&quot;女性&quot;</td><td>&quot;c419920a6386b340b97b756bd8e8a5…</td></tr><tr><td>&quot;223SvE3mDckZWaFKc4Ezmz&quot;</td><td>2024-11-01</td><td>17</td><td>&quot;門司店&quot;</td><td>&quot;80代以上&quot;</td><td>&quot;女性&quot;</td><td>&quot;041b2b2aefd6357d65f46a7c2c81b1…</td></tr><tr><td>&quot;224ZtFbG25byUwByo7s5Cz&quot;</td><td>2024-11-07</td><td>11</td><td>&quot;新宮店&quot;</td><td>&quot;70代&quot;</td><td>&quot;男性&quot;</td><td>&quot;747f2ef45b420c75d3420158934956…</td></tr><tr><td>&quot;227xpGcbQNAbpdP5LsYbGw&quot;</td><td>2024-11-22</td><td>8</td><td>&quot;日田店&quot;</td><td>&quot;60代&quot;</td><td>&quot;女性&quot;</td><td>&quot;f6015f2951f94e6b23a39ee33e659b…</td></tr><tr><td>&quot;2287s338C7P9qCcFbzLxSY&quot;</td><td>2024-11-09</td><td>15</td><td>&quot;門司店&quot;</td><td>&quot;60代&quot;</td><td>&quot;男性&quot;</td><td>&quot;00b7ce1ab255befbe9f76690044a84…</td></tr><tr><td>&hellip;</td><td>&hellip;</td><td>&hellip;</td><td>&hellip;</td><td>&hellip;</td><td>&hellip;</td><td>&hellip;</td></tr><tr><td>&quot;oZ8CYz7tmRnVAszZpzwVEg&quot;</td><td>2024-11-02</td><td>17</td><td>&quot;新宮店&quot;</td><td>&quot;40代&quot;</td><td>&quot;不明&quot;</td><td>&quot;37d606447a37f18391e8bf3b743ff0…</td></tr><tr><td>&quot;oZ8zCvKGd7RVMNVffZQfmg&quot;</td><td>2024-11-05</td><td>12</td><td>&quot;日田店&quot;</td><td>&quot;70代&quot;</td><td>&quot;女性&quot;</td><td>&quot;4eb846f91c1354abc0293358ebdd8c…</td></tr><tr><td>&quot;oZCeMk4vt4vQeebUutAVV7&quot;</td><td>2024-11-02</td><td>11</td><td>&quot;日田店&quot;</td><td>&quot;50代&quot;</td><td>&quot;女性&quot;</td><td>&quot;f86d9fcb3206450612fe2d23efe0bd…</td></tr><tr><td>&quot;oZCuuEtwGyNFZvcxJiAZY8&quot;</td><td>2024-11-06</td><td>16</td><td>&quot;日田店&quot;</td><td>&quot;50代&quot;</td><td>&quot;女性&quot;</td><td>&quot;296f4d98d99d8bd89b3936d2a41346…</td></tr><tr><td>&quot;oZCzrQvSBeFAAs6usxaB37&quot;</td><td>2024-11-03</td><td>20</td><td>&quot;門司店&quot;</td><td>&quot;60代&quot;</td><td>&quot;男性&quot;</td><td>&quot;b36dd22d4871cf8fd9c597374a33a5…</td></tr></tbody></table></div>"
      ],
      "text/plain": [
       "shape: (121_415, 7)\n",
       "┌────────────────────────┬────────────┬──────┬────────┬──────────┬──────┬──────────────────────────┐\n",
       "│ session_id             ┆ 売上日     ┆ 時刻 ┆ 店舗名 ┆ 年代     ┆ 性別 ┆ 顧客CD                   │\n",
       "│ ---                    ┆ ---        ┆ ---  ┆ ---    ┆ ---      ┆ ---  ┆ ---                      │\n",
       "│ str                    ┆ date       ┆ i64  ┆ str    ┆ str      ┆ str  ┆ str                      │\n",
       "╞════════════════════════╪════════════╪══════╪════════╪══════════╪══════╪══════════════════════════╡\n",
       "│ 222qahkdkra4b7isEosZ5z ┆ 2024-11-03 ┆ 17   ┆ 新宮店 ┆ 40代     ┆ 女性 ┆ c419920a6386b340b97b756b │\n",
       "│                        ┆            ┆      ┆        ┆          ┆      ┆ d8e8a5…                  │\n",
       "│ 223SvE3mDckZWaFKc4Ezmz ┆ 2024-11-01 ┆ 17   ┆ 門司店 ┆ 80代以上 ┆ 女性 ┆ 041b2b2aefd6357d65f46a7c │\n",
       "│                        ┆            ┆      ┆        ┆          ┆      ┆ 2c81b1…                  │\n",
       "│ 224ZtFbG25byUwByo7s5Cz ┆ 2024-11-07 ┆ 11   ┆ 新宮店 ┆ 70代     ┆ 男性 ┆ 747f2ef45b420c75d3420158 │\n",
       "│                        ┆            ┆      ┆        ┆          ┆      ┆ 934956…                  │\n",
       "│ 227xpGcbQNAbpdP5LsYbGw ┆ 2024-11-22 ┆ 8    ┆ 日田店 ┆ 60代     ┆ 女性 ┆ f6015f2951f94e6b23a39ee3 │\n",
       "│                        ┆            ┆      ┆        ┆          ┆      ┆ 3e659b…                  │\n",
       "│ 2287s338C7P9qCcFbzLxSY ┆ 2024-11-09 ┆ 15   ┆ 門司店 ┆ 60代     ┆ 男性 ┆ 00b7ce1ab255befbe9f76690 │\n",
       "│                        ┆            ┆      ┆        ┆          ┆      ┆ 044a84…                  │\n",
       "│ …                      ┆ …          ┆ …    ┆ …      ┆ …        ┆ …    ┆ …                        │\n",
       "│ oZ8CYz7tmRnVAszZpzwVEg ┆ 2024-11-02 ┆ 17   ┆ 新宮店 ┆ 40代     ┆ 不明 ┆ 37d606447a37f18391e8bf3b │\n",
       "│                        ┆            ┆      ┆        ┆          ┆      ┆ 743ff0…                  │\n",
       "│ oZ8zCvKGd7RVMNVffZQfmg ┆ 2024-11-05 ┆ 12   ┆ 日田店 ┆ 70代     ┆ 女性 ┆ 4eb846f91c1354abc0293358 │\n",
       "│                        ┆            ┆      ┆        ┆          ┆      ┆ ebdd8c…                  │\n",
       "│ oZCeMk4vt4vQeebUutAVV7 ┆ 2024-11-02 ┆ 11   ┆ 日田店 ┆ 50代     ┆ 女性 ┆ f86d9fcb3206450612fe2d23 │\n",
       "│                        ┆            ┆      ┆        ┆          ┆      ┆ efe0bd…                  │\n",
       "│ oZCuuEtwGyNFZvcxJiAZY8 ┆ 2024-11-06 ┆ 16   ┆ 日田店 ┆ 50代     ┆ 女性 ┆ 296f4d98d99d8bd89b3936d2 │\n",
       "│                        ┆            ┆      ┆        ┆          ┆      ┆ a41346…                  │\n",
       "│ oZCzrQvSBeFAAs6usxaB37 ┆ 2024-11-03 ┆ 20   ┆ 門司店 ┆ 60代     ┆ 男性 ┆ b36dd22d4871cf8fd9c59737 │\n",
       "│                        ┆            ┆      ┆        ┆          ┆      ┆ 4a33a5…                  │\n",
       "└────────────────────────┴────────────┴──────┴────────┴──────────┴──────┴──────────────────────────┘"
      ]
     },
     "execution_count": 8,
     "metadata": {},
     "output_type": "execute_result"
    }
   ],
   "source": [
    "test_ss\n"
   ]
  },
  {
   "cell_type": "code",
   "execution_count": 9,
   "metadata": {},
   "outputs": [
    {
     "data": {
      "text/plain": [
       "127070"
      ]
     },
     "execution_count": 9,
     "metadata": {},
     "output_type": "execute_result"
    }
   ],
   "source": [
    "jan.height\n"
   ]
  },
  {
   "cell_type": "code",
   "execution_count": 10,
   "metadata": {},
   "outputs": [
    {
     "data": {
      "text/html": [
       "<div><style>\n",
       ".dataframe > thead > tr,\n",
       ".dataframe > tbody > tr {\n",
       "  text-align: right;\n",
       "  white-space: pre-wrap;\n",
       "}\n",
       "</style>\n",
       "<small>shape: (20_742_889, 6)</small><table border=\"1\" class=\"dataframe\"><thead><tr><th>session_id</th><th>JAN</th><th>売上数量</th><th>売上金額</th><th>値割数量</th><th>値割金額</th></tr><tr><td>str</td><td>i64</td><td>i64</td><td>i64</td><td>i64</td><td>i64</td></tr></thead><tbody><tr><td>&quot;2222WjCzgbd2oEWF5AmrqQ&quot;</td><td>4522646193879</td><td>1</td><td>219</td><td>0</td><td>0</td></tr><tr><td>&quot;2222WjCzgbd2oEWF5AmrqQ&quot;</td><td>4522646735680</td><td>1</td><td>199</td><td>0</td><td>0</td></tr><tr><td>&quot;2222WjCzgbd2oEWF5AmrqQ&quot;</td><td>4901340082946</td><td>1</td><td>79</td><td>0</td><td>0</td></tr><tr><td>&quot;2222WjCzgbd2oEWF5AmrqQ&quot;</td><td>4901516013682</td><td>2</td><td>238</td><td>0</td><td>0</td></tr><tr><td>&quot;2222WjCzgbd2oEWF5AmrqQ&quot;</td><td>4901626025902</td><td>1</td><td>99</td><td>0</td><td>0</td></tr><tr><td>&hellip;</td><td>&hellip;</td><td>&hellip;</td><td>&hellip;</td><td>&hellip;</td><td>&hellip;</td></tr><tr><td>&quot;oZEpwztdP4tzJc8i2BKYnw&quot;</td><td>4522646835892</td><td>1</td><td>79</td><td>0</td><td>0</td></tr><tr><td>&quot;oZEpwztdP4tzJc8i2BKYnw&quot;</td><td>4901577020650</td><td>1</td><td>179</td><td>0</td><td>0</td></tr><tr><td>&quot;oZEpwztdP4tzJc8i2BKYnw&quot;</td><td>4901577085307</td><td>1</td><td>269</td><td>0</td><td>0</td></tr><tr><td>&quot;oZEpwztdP4tzJc8i2BKYnw&quot;</td><td>4902560310147</td><td>1</td><td>229</td><td>0</td><td>0</td></tr><tr><td>&quot;oZEpwztdP4tzJc8i2BKYnw&quot;</td><td>4903301353218</td><td>1</td><td>499</td><td>0</td><td>0</td></tr></tbody></table></div>"
      ],
      "text/plain": [
       "shape: (20_742_889, 6)\n",
       "┌────────────────────────┬───────────────┬──────────┬──────────┬──────────┬──────────┐\n",
       "│ session_id             ┆ JAN           ┆ 売上数量 ┆ 売上金額 ┆ 値割数量 ┆ 値割金額 │\n",
       "│ ---                    ┆ ---           ┆ ---      ┆ ---      ┆ ---      ┆ ---      │\n",
       "│ str                    ┆ i64           ┆ i64      ┆ i64      ┆ i64      ┆ i64      │\n",
       "╞════════════════════════╪═══════════════╪══════════╪══════════╪══════════╪══════════╡\n",
       "│ 2222WjCzgbd2oEWF5AmrqQ ┆ 4522646193879 ┆ 1        ┆ 219      ┆ 0        ┆ 0        │\n",
       "│ 2222WjCzgbd2oEWF5AmrqQ ┆ 4522646735680 ┆ 1        ┆ 199      ┆ 0        ┆ 0        │\n",
       "│ 2222WjCzgbd2oEWF5AmrqQ ┆ 4901340082946 ┆ 1        ┆ 79       ┆ 0        ┆ 0        │\n",
       "│ 2222WjCzgbd2oEWF5AmrqQ ┆ 4901516013682 ┆ 2        ┆ 238      ┆ 0        ┆ 0        │\n",
       "│ 2222WjCzgbd2oEWF5AmrqQ ┆ 4901626025902 ┆ 1        ┆ 99       ┆ 0        ┆ 0        │\n",
       "│ …                      ┆ …             ┆ …        ┆ …        ┆ …        ┆ …        │\n",
       "│ oZEpwztdP4tzJc8i2BKYnw ┆ 4522646835892 ┆ 1        ┆ 79       ┆ 0        ┆ 0        │\n",
       "│ oZEpwztdP4tzJc8i2BKYnw ┆ 4901577020650 ┆ 1        ┆ 179      ┆ 0        ┆ 0        │\n",
       "│ oZEpwztdP4tzJc8i2BKYnw ┆ 4901577085307 ┆ 1        ┆ 269      ┆ 0        ┆ 0        │\n",
       "│ oZEpwztdP4tzJc8i2BKYnw ┆ 4902560310147 ┆ 1        ┆ 229      ┆ 0        ┆ 0        │\n",
       "│ oZEpwztdP4tzJc8i2BKYnw ┆ 4903301353218 ┆ 1        ┆ 499      ┆ 0        ┆ 0        │\n",
       "└────────────────────────┴───────────────┴──────────┴──────────┴──────────┴──────────┘"
      ]
     },
     "execution_count": 10,
     "metadata": {},
     "output_type": "execute_result"
    }
   ],
   "source": [
    "train_log\n"
   ]
  },
  {
   "cell_type": "code",
   "execution_count": 11,
   "metadata": {},
   "outputs": [
    {
     "data": {
      "text/html": [
       "<div><style>\n",
       ".dataframe > thead > tr,\n",
       ".dataframe > tbody > tr {\n",
       "  text-align: right;\n",
       "  white-space: pre-wrap;\n",
       "}\n",
       "</style>\n",
       "<small>shape: (5, 17)</small><table border=\"1\" class=\"dataframe\"><thead><tr><th>USER_ID</th><th>PURCHASED_AT</th><th>EC_SITE_NAME</th><th>UNIT_PRICE</th><th>AMOUNT</th><th>AMOUNT_WB</th><th>TOTAL_PRICE</th><th>TOTAL_PRICE_WB</th><th>ITEM_NAME</th><th>ITEM_URL</th><th>JAN</th><th>GENRE</th><th>GENDER_NAME</th><th>AGE_CATEGORY</th><th>FURUSATO_FLG</th><th>RAKUTEN_USER</th><th>WEIGHT_BACK_VALUE</th></tr><tr><td>str</td><td>datetime[μs, UTC]</td><td>str</td><td>f64</td><td>f64</td><td>f64</td><td>f64</td><td>f64</td><td>str</td><td>str</td><td>str</td><td>str</td><td>str</td><td>str</td><td>i64</td><td>i64</td><td>f64</td></tr></thead><tbody><tr><td>&quot;74aa584eddc336921bdac47fc6fe1ce970cfaeef3f2883072a3939b108d94bed&quot;</td><td>2024-06-30 15:00:04 UTC</td><td>&quot;Rakuten&quot;</td><td>2699.0</td><td>1.0</td><td>0.465978</td><td>2699.0</td><td>1257.673359</td><td>&quot;『店内全品ポイント2倍アップ！30日限定！09:00〜23:59 』＼クーポン利用で1,699円／【新感覚】デニム パンツ デニムパンツ レディース ワイドパンツ 春服 ワイド ズボン ジーンズ 春夏 ジーパン 夏服 体型カバー ボトムス ストレート ゆったり ゴム ウエスト&quot;</td><td>&quot;https://item.rakuten.co.jp/5000cshop/5zkdk-1/&quot;</td><td>null</td><td>null</td><td>&quot;女性&quot;</td><td>&quot;30代&quot;</td><td>0</td><td>1</td><td>0.465978</td></tr><tr><td>&quot;dd98b74fccc9331808a9e97cf56f02963fdd6cc2d9aad9c03736e10b81d67ef8&quot;</td><td>2024-06-30 15:00:08 UTC</td><td>&quot;Rakuten&quot;</td><td>15000.0</td><td>1.0</td><td>0.90608</td><td>15000.0</td><td>13591.198129</td><td>&quot;【7/1限定★最大50％OFF！ほぼ全品に使えるクーポン配布中】炭八 福袋 2024 大袋の数が選べる！炭八福袋 湿気 タンス 小袋 靴用ミニ 室内用 12L  押し入れやクローゼットの除湿に&quot;</td><td>&quot;https://item.rakuten.co.jp/granire-plus/sumi-41/&quot;</td><td>null</td><td>&quot;日用品雑貨・文房具・手芸&quot;</td><td>&quot;男性&quot;</td><td>&quot;40代&quot;</td><td>0</td><td>1</td><td>0.90608</td></tr><tr><td>&quot;b078067564ee40e3813b95fad803cb9a2918bffc072b8ece7c8bb4b42686e6a1&quot;</td><td>2024-06-30 15:00:09 UTC</td><td>&quot;Rakuten&quot;</td><td>1000.0</td><td>1.0</td><td>0.465978</td><td>1000.0</td><td>465.977532</td><td>&quot;漁師が作る鮭とば100g北海道産鮭とば 1000円ポッキリ 鮭トバ さけとば おつまみ【送料無料】【メール便】&quot;</td><td>&quot;https://item.rakuten.co.jp/kitanomachi/saketoba_100g/&quot;</td><td>null</td><td>&quot;食品&quot;</td><td>&quot;女性&quot;</td><td>&quot;30代&quot;</td><td>0</td><td>1</td><td>0.465978</td></tr><tr><td>&quot;2812f2353d41a98f57e11c782bf6de57f1942447fa1f73d0fcd3e719497fcfd0&quot;</td><td>2024-06-30 15:00:12 UTC</td><td>&quot;Amazon&quot;</td><td>null</td><td>1.0</td><td>0.800676</td><td>19250.0</td><td>15413.021242</td><td>null</td><td>null</td><td>null</td><td>null</td><td>&quot;男性&quot;</td><td>&quot;30代&quot;</td><td>0</td><td>0</td><td>0.800676</td></tr><tr><td>&quot;bdda88ef299d4feec04c86b75d5188ea2dde37a807e26e973eba2942e7acfc97&quot;</td><td>2024-06-30 15:00:12 UTC</td><td>&quot;Amazon&quot;</td><td>null</td><td>1.0</td><td>0.564774</td><td>2759.0</td><td>1558.210743</td><td>null</td><td>null</td><td>null</td><td>null</td><td>&quot;男性&quot;</td><td>&quot;20代&quot;</td><td>0</td><td>1</td><td>0.564774</td></tr></tbody></table></div>"
      ],
      "text/plain": [
       "shape: (5, 17)\n",
       "┌───────────┬───────────┬───────────┬───────────┬───┬───────────┬───────────┬───────────┬──────────┐\n",
       "│ USER_ID   ┆ PURCHASED ┆ EC_SITE_N ┆ UNIT_PRIC ┆ … ┆ AGE_CATEG ┆ FURUSATO_ ┆ RAKUTEN_U ┆ WEIGHT_B │\n",
       "│ ---       ┆ _AT       ┆ AME       ┆ E         ┆   ┆ ORY       ┆ FLG       ┆ SER       ┆ ACK_VALU │\n",
       "│ str       ┆ ---       ┆ ---       ┆ ---       ┆   ┆ ---       ┆ ---       ┆ ---       ┆ E        │\n",
       "│           ┆ datetime[ ┆ str       ┆ f64       ┆   ┆ str       ┆ i64       ┆ i64       ┆ ---      │\n",
       "│           ┆ μs, UTC]  ┆           ┆           ┆   ┆           ┆           ┆           ┆ f64      │\n",
       "╞═══════════╪═══════════╪═══════════╪═══════════╪═══╪═══════════╪═══════════╪═══════════╪══════════╡\n",
       "│ 74aa584ed ┆ 2024-06-3 ┆ Rakuten   ┆ 2699.0    ┆ … ┆ 30代      ┆ 0         ┆ 1         ┆ 0.465978 │\n",
       "│ dc336921b ┆ 0         ┆           ┆           ┆   ┆           ┆           ┆           ┆          │\n",
       "│ dac47fc6f ┆ 15:00:04  ┆           ┆           ┆   ┆           ┆           ┆           ┆          │\n",
       "│ e1ce970cf ┆ UTC       ┆           ┆           ┆   ┆           ┆           ┆           ┆          │\n",
       "│ aeef3f288 ┆           ┆           ┆           ┆   ┆           ┆           ┆           ┆          │\n",
       "│ 3072a3939 ┆           ┆           ┆           ┆   ┆           ┆           ┆           ┆          │\n",
       "│ b108d94be ┆           ┆           ┆           ┆   ┆           ┆           ┆           ┆          │\n",
       "│ d         ┆           ┆           ┆           ┆   ┆           ┆           ┆           ┆          │\n",
       "│ dd98b74fc ┆ 2024-06-3 ┆ Rakuten   ┆ 15000.0   ┆ … ┆ 40代      ┆ 0         ┆ 1         ┆ 0.90608  │\n",
       "│ cc9331808 ┆ 0         ┆           ┆           ┆   ┆           ┆           ┆           ┆          │\n",
       "│ a9e97cf56 ┆ 15:00:08  ┆           ┆           ┆   ┆           ┆           ┆           ┆          │\n",
       "│ f02963fdd ┆ UTC       ┆           ┆           ┆   ┆           ┆           ┆           ┆          │\n",
       "│ 6cc2d9aad ┆           ┆           ┆           ┆   ┆           ┆           ┆           ┆          │\n",
       "│ 9c03736e1 ┆           ┆           ┆           ┆   ┆           ┆           ┆           ┆          │\n",
       "│ 0b81d67ef ┆           ┆           ┆           ┆   ┆           ┆           ┆           ┆          │\n",
       "│ 8         ┆           ┆           ┆           ┆   ┆           ┆           ┆           ┆          │\n",
       "│ b07806756 ┆ 2024-06-3 ┆ Rakuten   ┆ 1000.0    ┆ … ┆ 30代      ┆ 0         ┆ 1         ┆ 0.465978 │\n",
       "│ 4ee40e381 ┆ 0         ┆           ┆           ┆   ┆           ┆           ┆           ┆          │\n",
       "│ 3b95fad80 ┆ 15:00:09  ┆           ┆           ┆   ┆           ┆           ┆           ┆          │\n",
       "│ 3cb9a2918 ┆ UTC       ┆           ┆           ┆   ┆           ┆           ┆           ┆          │\n",
       "│ bffc072b8 ┆           ┆           ┆           ┆   ┆           ┆           ┆           ┆          │\n",
       "│ ece7c8bb4 ┆           ┆           ┆           ┆   ┆           ┆           ┆           ┆          │\n",
       "│ b42686e6a ┆           ┆           ┆           ┆   ┆           ┆           ┆           ┆          │\n",
       "│ 1         ┆           ┆           ┆           ┆   ┆           ┆           ┆           ┆          │\n",
       "│ 2812f2353 ┆ 2024-06-3 ┆ Amazon    ┆ null      ┆ … ┆ 30代      ┆ 0         ┆ 0         ┆ 0.800676 │\n",
       "│ d41a98f57 ┆ 0         ┆           ┆           ┆   ┆           ┆           ┆           ┆          │\n",
       "│ e11c782bf ┆ 15:00:12  ┆           ┆           ┆   ┆           ┆           ┆           ┆          │\n",
       "│ 6de57f194 ┆ UTC       ┆           ┆           ┆   ┆           ┆           ┆           ┆          │\n",
       "│ 2447fa1f7 ┆           ┆           ┆           ┆   ┆           ┆           ┆           ┆          │\n",
       "│ 3d0fcd3e7 ┆           ┆           ┆           ┆   ┆           ┆           ┆           ┆          │\n",
       "│ 19497fcfd ┆           ┆           ┆           ┆   ┆           ┆           ┆           ┆          │\n",
       "│ 0         ┆           ┆           ┆           ┆   ┆           ┆           ┆           ┆          │\n",
       "│ bdda88ef2 ┆ 2024-06-3 ┆ Amazon    ┆ null      ┆ … ┆ 20代      ┆ 0         ┆ 1         ┆ 0.564774 │\n",
       "│ 99d4feec0 ┆ 0         ┆           ┆           ┆   ┆           ┆           ┆           ┆          │\n",
       "│ 4c86b75d5 ┆ 15:00:12  ┆           ┆           ┆   ┆           ┆           ┆           ┆          │\n",
       "│ 188ea2dde ┆ UTC       ┆           ┆           ┆   ┆           ┆           ┆           ┆          │\n",
       "│ 37a807e26 ┆           ┆           ┆           ┆   ┆           ┆           ┆           ┆          │\n",
       "│ e973eba29 ┆           ┆           ┆           ┆   ┆           ┆           ┆           ┆          │\n",
       "│ 42e7acfc9 ┆           ┆           ┆           ┆   ┆           ┆           ┆           ┆          │\n",
       "│ 7         ┆           ┆           ┆           ┆   ┆           ┆           ┆           ┆          │\n",
       "└───────────┴───────────┴───────────┴───────────┴───┴───────────┴───────────┴───────────┴──────────┘"
      ]
     },
     "execution_count": 11,
     "metadata": {},
     "output_type": "execute_result"
    }
   ],
   "source": [
    "pl.Config.set_fmt_str_lengths(1000)\n",
    "ec_log.head()\n"
   ]
  },
  {
   "cell_type": "code",
   "execution_count": 12,
   "metadata": {},
   "outputs": [
    {
     "name": "stdout",
     "output_type": "stream",
     "text": [
      "顧客CD unique数: 227553\n",
      "USER_ID unique数: 84290\n",
      "両方に存在する数: 0\n"
     ]
    },
    {
     "data": {
      "image/png": "[encoded data removed]",
      "text/plain": [
       "<Figure size 1000x600 with 1 Axes>"
      ]
     },
     "metadata": {},
     "output_type": "display_data"
    },
    {
     "name": "stdout",
     "output_type": "stream",
     "text": [
      "店舗顧客のうちECサイトも利用している割合: 0.00%\n",
      "ECサイト利用者のうち店舗も利用している割合: 0.00%\n"
     ]
    }
   ],
   "source": [
    "# ====================================================\n",
    "# 顧客CDとUSER_IDの関係をベン図で可視化\n",
    "# ====================================================\n",
    "# 顧客CDとUSER_IDの集合を作成\n",
    "customer_cd_set = set(train_ss[\"顧客CD\"].unique())\n",
    "user_id_set = set(ec_log[\"USER_ID\"].unique())\n",
    "\n",
    "# 集合のサイズを確認\n",
    "print(f\"顧客CD unique数: {len(customer_cd_set)}\")\n",
    "print(f\"USER_ID unique数: {len(user_id_set)}\")\n",
    "print(f\"両方に存在する数: {len(customer_cd_set.intersection(user_id_set))}\")\n",
    "\n",
    "# ベン図の作成\n",
    "plt.figure(figsize=(10, 6))\n",
    "venn = venn2([customer_cd_set, user_id_set], (\"店舗顧客CD\", \"ECサイトUSER_ID\"))\n",
    "\n",
    "plt.title(\"店舗顧客CDとECサイトUSER_IDの重複関係\", fontsize=16)\n",
    "plt.show()\n",
    "\n",
    "# 重複している顧客の割合を計算\n",
    "overlap_ratio_customer = len(customer_cd_set.intersection(user_id_set)) / len(customer_cd_set) * 100\n",
    "overlap_ratio_user = len(customer_cd_set.intersection(user_id_set)) / len(user_id_set) * 100\n",
    "\n",
    "print(f\"店舗顧客のうちECサイトも利用している割合: {overlap_ratio_customer:.2f}%\")\n",
    "print(f\"ECサイト利用者のうち店舗も利用している割合: {overlap_ratio_user:.2f}%\")\n"
   ]
  },
  {
   "cell_type": "code",
   "execution_count": 13,
   "metadata": {},
   "outputs": [
    {
     "name": "stdout",
     "output_type": "stream",
     "text": [
      "顧客CD(train) unique数: 227553\n",
      "顧客CD(test) unique数: 121415\n",
      "両方に存在する数: 105548\n"
     ]
    },
    {
     "data": {
      "image/png": "[encoded data removed]",
      "text/plain": [
       "<Figure size 1000x600 with 1 Axes>"
      ]
     },
     "metadata": {},
     "output_type": "display_data"
    }
   ],
   "source": [
    "# ====================================================\n",
    "# train, testの顧客CD関係をベン図で可視化\n",
    "# ====================================================\n",
    "# 顧客CDとUSER_IDの集合を作成\n",
    "train_customer_cd_set = set(train_ss[\"顧客CD\"].unique())\n",
    "test_customer_cd_set = set(test_ss[\"顧客CD\"].unique())\n",
    "\n",
    "# 集合のサイズを確認\n",
    "print(f\"顧客CD(train) unique数: {len(train_customer_cd_set)}\")\n",
    "print(f\"顧客CD(test) unique数: {len(test_customer_cd_set)}\")\n",
    "print(f\"両方に存在する数: {len(train_customer_cd_set.intersection(test_customer_cd_set))}\")\n",
    "\n",
    "# ベン図の作成\n",
    "plt.figure(figsize=(10, 6))\n",
    "venn = venn2([train_customer_cd_set, test_customer_cd_set], (\"顧客CD(train)\", \"顧客CD(test)\"))\n",
    "\n",
    "plt.title(\"顧客CDの重複関係\", fontsize=16)\n",
    "plt.show()\n",
    "\n",
    "# 重複している顧客の割合を計算\n",
    "overlap_ratio_customer = (\n",
    "    len(train_customer_cd_set.intersection(test_customer_cd_set)) / len(train_customer_cd_set) * 100\n",
    ")\n",
    "overlap_ratio_user = len(train_customer_cd_set.intersection(test_customer_cd_set)) / len(test_customer_cd_set) * 100\n",
    "\n",
    "# print(f\"店舗顧客のうちECサイトも利用している割合: {overlap_ratio_customer:.2f}%\")\n",
    "# print(f\"ECサイト利用者のうち店舗も利用している割合: {overlap_ratio_user:.2f}%\")\n"
   ]
  },
  {
   "cell_type": "code",
   "execution_count": 17,
   "metadata": {},
   "outputs": [
    {
     "data": {
      "text/html": [
       "<div><style>\n",
       ".dataframe > thead > tr,\n",
       ".dataframe > tbody > tr {\n",
       "  text-align: right;\n",
       "  white-space: pre-wrap;\n",
       "}\n",
       "</style>\n",
       "<small>shape: (6,)</small><table border=\"1\" class=\"dataframe\"><thead><tr><th>店舗名</th></tr><tr><td>str</td></tr></thead><tbody><tr><td>&quot;つくば&quot;</td></tr><tr><td>&quot;新宮店&quot;</td></tr><tr><td>&quot;福岡空&quot;</td></tr><tr><td>&quot;日田店&quot;</td></tr><tr><td>&quot;門司店&quot;</td></tr><tr><td>&quot;益浦店&quot;</td></tr></tbody></table></div>"
      ],
      "text/plain": [
       "shape: (6,)\n",
       "Series: '店舗名' [str]\n",
       "[\n",
       "\t\"つくば\"\n",
       "\t\"新宮店\"\n",
       "\t\"福岡空\"\n",
       "\t\"日田店\"\n",
       "\t\"門司店\"\n",
       "\t\"益浦店\"\n",
       "]"
      ]
     },
     "execution_count": 17,
     "metadata": {},
     "output_type": "execute_result"
    }
   ],
   "source": [
    "# ====================================================\n",
    "# 店舗名\n",
    "# ====================================================\n",
    "train_test_ss[\"店舗名\"].unique()\n"
   ]
  }
 ],
 "metadata": {
  "kernelspec": {
   "display_name": "Python 3",
   "language": "python",
   "name": "python3"
  },
  "language_info": {
   "codemirror_mode": {
    "name": "ipython",
    "version": 3
   },
   "file_extension": ".py",
   "mimetype": "text/x-python",
   "name": "python",
   "nbconvert_exporter": "python",
   "pygments_lexer": "ipython3",
   "version": "3.10.12"
  }
 },
 "nbformat": 4,
 "nbformat_minor": 2
}
